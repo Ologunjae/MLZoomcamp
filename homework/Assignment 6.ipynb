{
 "cells": [
  {
   "cell_type": "code",
   "execution_count": 36,
   "metadata": {},
   "outputs": [],
   "source": [
    "import pandas as pd\n",
    "import numpy as np\n",
    "\n",
    "import matplotlib.pyplot as plt\n",
    "import seaborn as sns\n",
    "\n",
    "from sklearn.model_selection import train_test_split\n",
    "from sklearn.feature_extraction import DictVectorizer\n",
    "from sklearn.linear_model import LogisticRegression\n",
    "from sklearn.tree import DecisionTreeRegressor\n",
    "from sklearn.tree import export_text\n",
    "from sklearn.metrics import roc_auc_score\n",
    "\n",
    "from sklearn.ensemble import RandomForestRegressor"
   ]
  },
  {
   "cell_type": "code",
   "execution_count": 2,
   "metadata": {},
   "outputs": [],
   "source": [
    "df = pd.read_csv('housing.csv')"
   ]
  },
  {
   "cell_type": "code",
   "execution_count": 3,
   "metadata": {},
   "outputs": [],
   "source": [
    "df = df[(df['ocean_proximity'] == '<1H OCEAN') | (df['ocean_proximity'] == 'INLAND')].reset_index(drop=True)"
   ]
  },
  {
   "cell_type": "code",
   "execution_count": 4,
   "metadata": {},
   "outputs": [],
   "source": [
    "df['total_bedrooms'] = df['total_bedrooms'].fillna(0)"
   ]
  },
  {
   "cell_type": "code",
   "execution_count": 5,
   "metadata": {},
   "outputs": [],
   "source": [
    "df_full_train, df_test = train_test_split(df, test_size=0.2, random_state=1)\n",
    "df_train, df_val = train_test_split(df_full_train, test_size=0.25, random_state=1)"
   ]
  },
  {
   "cell_type": "code",
   "execution_count": 6,
   "metadata": {},
   "outputs": [],
   "source": [
    "df_train = df_train.reset_index(drop=True)\n",
    "df_val = df_val.reset_index(drop=True)\n",
    "df_test = df_test.reset_index(drop=True)\n",
    "\n"
   ]
  },
  {
   "cell_type": "code",
   "execution_count": 7,
   "metadata": {},
   "outputs": [],
   "source": [
    "y_train = np.log1p(df_train.median_house_value)\n",
    "y_val = np.log1p(df_val.median_house_value)\n",
    "y_test = np.log1p(df_test.median_house_value)"
   ]
  },
  {
   "cell_type": "code",
   "execution_count": 8,
   "metadata": {},
   "outputs": [],
   "source": [
    "del df_train['median_house_value']\n",
    "del df_val['median_house_value']\n",
    "del df_test['median_house_value']\n"
   ]
  },
  {
   "cell_type": "code",
   "execution_count": 58,
   "metadata": {},
   "outputs": [],
   "source": [
    "dv = DictVectorizer()\n",
    "X_train = dv.fit_transform(df_train.to_dict(orient=\"records\"))\n",
    "X_val = dv.transform(df_val.to_dict(orient=\"records\"))\n",
    "X_test = dv.transform(df_test.to_dict(orient=\"records\"))"
   ]
  },
  {
   "cell_type": "code",
   "execution_count": 10,
   "metadata": {},
   "outputs": [
    {
     "data": {
      "text/plain": [
       "DecisionTreeRegressor(max_depth=1)"
      ]
     },
     "execution_count": 10,
     "metadata": {},
     "output_type": "execute_result"
    }
   ],
   "source": [
    "dt = DecisionTreeRegressor(max_depth=1)\n",
    "dt.fit(X_train, y_train)"
   ]
  },
  {
   "cell_type": "code",
   "execution_count": 11,
   "metadata": {},
   "outputs": [
    {
     "name": "stdout",
     "output_type": "stream",
     "text": [
      "|--- ocean_proximity=<1H OCEAN <= 0.50\n",
      "|   |--- value: [11.61]\n",
      "|--- ocean_proximity=<1H OCEAN >  0.50\n",
      "|   |--- value: [12.30]\n",
      "\n"
     ]
    }
   ],
   "source": [
    "print(export_text(dt, feature_names=list(dv.get_feature_names_out())))"
   ]
  },
  {
   "cell_type": "code",
   "execution_count": 12,
   "metadata": {},
   "outputs": [
    {
     "data": {
      "text/plain": [
       "RandomForestRegressor(n_estimators=10, n_jobs=-1, random_state=1)"
      ]
     },
     "execution_count": 12,
     "metadata": {},
     "output_type": "execute_result"
    }
   ],
   "source": [
    "rf = RandomForestRegressor(n_estimators=10, random_state=1, n_jobs=-1)\n",
    "rf.fit(X_train, y_train)"
   ]
  },
  {
   "cell_type": "code",
   "execution_count": 13,
   "metadata": {},
   "outputs": [],
   "source": [
    "def rmse(y, y_pred):\n",
    "    error = y - y_pred\n",
    "    se = error ** 2\n",
    "    mse = se.mean()\n",
    "    return np.sqrt(mse)"
   ]
  },
  {
   "cell_type": "code",
   "execution_count": 14,
   "metadata": {},
   "outputs": [
    {
     "data": {
      "text/plain": [
       "0.24527740463893766"
      ]
     },
     "execution_count": 14,
     "metadata": {},
     "output_type": "execute_result"
    }
   ],
   "source": [
    "y_pred = rf.predict(X_val)\n",
    "rmse(y_val,y_pred)\n"
   ]
  },
  {
   "cell_type": "code",
   "execution_count": 15,
   "metadata": {},
   "outputs": [
    {
     "name": "stdout",
     "output_type": "stream",
     "text": [
      "10: 0.24527740463893777\n",
      "20: 0.2390406168651719\n",
      "30: 0.23699502678947681\n",
      "40: 0.23550884330709165\n",
      "50: 0.23516229825028961\n",
      "60: 0.23471089539815948\n",
      "70: 0.2345736335549424\n",
      "80: 0.2348154203466172\n",
      "90: 0.23459303795867223\n",
      "100: 0.23441467733853819\n",
      "110: 0.2344021823772726\n",
      "120: 0.2342219763649724\n",
      "130: 0.23402331915715463\n",
      "140: 0.2337738039973723\n",
      "150: 0.23369489874504734\n",
      "160: 0.23353412957567454\n",
      "170: 0.23346792386040713\n",
      "180: 0.2336167257146944\n",
      "190: 0.233855071973486\n",
      "200: 0.23376164617188594\n"
     ]
    }
   ],
   "source": [
    "scores = []\n",
    "\n",
    "for n in range(10, 201, 10):\n",
    "        rf = RandomForestRegressor(n_estimators=n, n_jobs=-1, random_state=1)\n",
    "        rf.fit(X_train, y_train)\n",
    "\n",
    "        y_pred = rf.predict(X_val)\n",
    "        r = rmse(y_val,y_pred)\n",
    "        print (f'{n}: {r}')\n",
    "        scores.append((n, r))"
   ]
  },
  {
   "cell_type": "code",
   "execution_count": 16,
   "metadata": {},
   "outputs": [],
   "source": [
    "columns = ['n_estimators', 'rmse']\n",
    "df_scores = pd.DataFrame(scores, columns=columns)"
   ]
  },
  {
   "cell_type": "code",
   "execution_count": 17,
   "metadata": {},
   "outputs": [
    {
     "data": {
      "text/plain": [
       "[<matplotlib.lines.Line2D at 0x2c5456e0fa0>]"
      ]
     },
     "execution_count": 17,
     "metadata": {},
     "output_type": "execute_result"
    },
    {
     "data": {
      "image/png": "[encoded data removed]",
      "text/plain": [
       "<Figure size 432x288 with 1 Axes>"
      ]
     },
     "metadata": {
      "needs_background": "light"
     },
     "output_type": "display_data"
    }
   ],
   "source": [
    "plt.plot(df_scores.n_estimators, df_scores.rmse)"
   ]
  },
  {
   "cell_type": "code",
   "execution_count": 18,
   "metadata": {},
   "outputs": [
    {
     "name": "stdout",
     "output_type": "stream",
     "text": [
      "10-10: 0.25067714286967\n",
      "10-20: 0.2476719287300438\n",
      "10-30: 0.24643411411803698\n",
      "10-40: 0.2451678037310995\n",
      "10-50: 0.24555736366386027\n",
      "10-60: 0.24535165259564834\n",
      "10-70: 0.24540770334945547\n",
      "10-80: 0.2456400767862735\n",
      "10-90: 0.24553597121885168\n",
      "10-100: 0.24544642000029065\n",
      "10-110: 0.245343705537584\n",
      "10-120: 0.24512513704735345\n",
      "10-130: 0.24485654120695846\n",
      "10-140: 0.24463462871781044\n",
      "10-150: 0.24459315934955658\n",
      "10-160: 0.24450136088985563\n",
      "10-170: 0.24446036538559973\n",
      "10-180: 0.24456882266496313\n",
      "10-190: 0.24477143849125335\n",
      "10-200: 0.244773021210925\n",
      "15-10: 0.24577217152575948\n",
      "15-20: 0.23958260550158159\n",
      "15-30: 0.2377294205231006\n",
      "15-40: 0.23594829581796609\n",
      "15-50: 0.23604632017701238\n",
      "15-60: 0.23573059928218384\n",
      "15-70: 0.23552212716061466\n",
      "15-80: 0.2357282480746409\n",
      "15-90: 0.23543701795941605\n",
      "15-100: 0.23535585187215569\n",
      "15-110: 0.23515522588984947\n",
      "15-120: 0.23495307645928776\n",
      "15-130: 0.23481957036069118\n",
      "15-140: 0.23460949259472663\n",
      "15-150: 0.23450197986667734\n",
      "15-160: 0.2343025556189478\n",
      "15-170: 0.23429461831823123\n",
      "15-180: 0.23451224600874476\n",
      "15-190: 0.23472902439583596\n",
      "15-200: 0.2345842086164883\n",
      "20-10: 0.24470961607973765\n",
      "20-20: 0.23856959142356557\n",
      "20-30: 0.2367107045863985\n",
      "20-40: 0.23526805681956064\n",
      "20-50: 0.23504555074073594\n",
      "20-60: 0.23470468136408315\n",
      "20-70: 0.23462268957350213\n",
      "20-80: 0.23489467384744855\n",
      "20-90: 0.2347653490573981\n",
      "20-100: 0.23456015145857176\n",
      "20-110: 0.2343726741394674\n",
      "20-120: 0.23421829992957616\n",
      "20-130: 0.23401567590049926\n",
      "20-140: 0.23378408022625724\n",
      "20-150: 0.23375617835240098\n",
      "20-160: 0.23366544969123448\n",
      "20-170: 0.23364798266684578\n",
      "20-180: 0.23382043107322495\n",
      "20-190: 0.23407093312953192\n",
      "20-200: 0.23387482385192693\n",
      "25-10: 0.24426411041950247\n",
      "25-20: 0.23823286292345963\n",
      "25-30: 0.23620138069170277\n",
      "25-40: 0.23487762286508682\n",
      "25-50: 0.23444479955571448\n",
      "25-60: 0.2340243543951508\n",
      "25-70: 0.2339522552624026\n",
      "25-80: 0.23420439303007407\n",
      "25-90: 0.234225879298046\n",
      "25-100: 0.23422864112709926\n",
      "25-110: 0.23412986748319511\n",
      "25-120: 0.2339684903188603\n",
      "25-130: 0.23387898026338855\n",
      "25-140: 0.2336030671330917\n",
      "25-150: 0.23350196390543648\n",
      "25-160: 0.2334046947119715\n",
      "25-170: 0.23341870392446684\n",
      "25-180: 0.23357628683950632\n",
      "25-190: 0.23381852789769003\n",
      "25-200: 0.23371508266153634\n"
     ]
    }
   ],
   "source": [
    "scores = []\n",
    "\n",
    "for s in [10, 15, 20, 25]:\n",
    "    for n in range(10, 201, 10):\n",
    "        rf = RandomForestRegressor(n_estimators=n,\n",
    "                                    max_depth=s,\n",
    "                                    n_jobs=-1,\n",
    "                                    random_state=1)\n",
    "        \n",
    "        rf.fit(X_train, y_train)\n",
    "\n",
    "        y_pred = rf.predict(X_val)\n",
    "        r = rmse(y_val, y_pred)\n",
    "        print (f'{s}-{n}: {r}')\n",
    "        scores.append((s, n, r))"
   ]
  },
  {
   "cell_type": "code",
   "execution_count": 19,
   "metadata": {},
   "outputs": [],
   "source": [
    "columns = ['max_depth', 'n_estimators', 'rmse']\n",
    "df_scores = pd.DataFrame(scores, columns=columns)"
   ]
  },
  {
   "cell_type": "code",
   "execution_count": 20,
   "metadata": {},
   "outputs": [
    {
     "data": {
      "text/plain": [
       "<matplotlib.legend.Legend at 0x2c54523f7c0>"
      ]
     },
     "execution_count": 20,
     "metadata": {},
     "output_type": "execute_result"
    },
    {
     "data": {
      "image/png": "[encoded data removed]",
      "text/plain": [
       "<Figure size 432x288 with 1 Axes>"
      ]
     },
     "metadata": {
      "needs_background": "light"
     },
     "output_type": "display_data"
    }
   ],
   "source": [
    "for d in [10, 15, 20, 25]:\n",
    "    df_subset = df_scores[df_scores.max_depth == d]\n",
    "    \n",
    "    plt.plot(df_subset.n_estimators, df_subset.rmse,\n",
    "             label='max_depth=%d' % d)\n",
    "\n",
    "plt.legend()"
   ]
  },
  {
   "cell_type": "code",
   "execution_count": 30,
   "metadata": {},
   "outputs": [
    {
     "data": {
      "text/plain": [
       "array([0.0151361 , 0.03031726, 0.10200703, 0.08624381, 0.33561113,\n",
       "       0.29247297, 0.07380644, 0.02713606, 0.01585222, 0.02141699])"
      ]
     },
     "execution_count": 30,
     "metadata": {},
     "output_type": "execute_result"
    }
   ],
   "source": [
    "rf = RandomForestRegressor(n_estimators=10, max_depth=20, n_jobs=-1, random_state=1)\n",
    "rf.fit(X_train, y_train)\n",
    "rf.feature_importances_"
   ]
  },
  {
   "cell_type": "code",
   "execution_count": 53,
   "metadata": {},
   "outputs": [
    {
     "ename": "TypeError",
     "evalue": "set_theme() got an unexpected keyword argument 'width'",
     "output_type": "error",
     "traceback": [
      "\u001b[1;31m---------------------------------------------------------------------------\u001b[0m",
      "\u001b[1;31mTypeError\u001b[0m                                 Traceback (most recent call last)",
      "\u001b[1;32mc:\\Users\\Ebenezer\\Videos\\Assignment 6.ipynb Cell 22\u001b[0m line \u001b[0;36m<cell line: 3>\u001b[1;34m()\u001b[0m\n\u001b[0;32m      <a href='vscode-notebook-cell:/c%3A/Users/Ebenezer/Videos/Assignment%206.ipynb#X30sZmlsZQ%3D%3D?line=0'>1</a>\u001b[0m df_feat_import \u001b[39m=\u001b[39m pd\u001b[39m.\u001b[39mSeries(data\u001b[39m=\u001b[39mrf\u001b[39m.\u001b[39mfeature_importances_, index\u001b[39m=\u001b[39mdv\u001b[39m.\u001b[39mfeature_names_)\n\u001b[0;32m      <a href='vscode-notebook-cell:/c%3A/Users/Ebenezer/Videos/Assignment%206.ipynb#X30sZmlsZQ%3D%3D?line=1'>2</a>\u001b[0m sns\u001b[39m.\u001b[39mbarplot(y\u001b[39m=\u001b[39mdf_feat_import\u001b[39m.\u001b[39mindex, x\u001b[39m=\u001b[39mdf_feat_import)\n\u001b[1;32m----> <a href='vscode-notebook-cell:/c%3A/Users/Ebenezer/Videos/Assignment%206.ipynb#X30sZmlsZQ%3D%3D?line=2'>3</a>\u001b[0m sns\u001b[39m.\u001b[39;49mset(width\u001b[39m=\u001b[39;49m\u001b[39m12\u001b[39;49m)\n",
      "File \u001b[1;32mc:\\Users\\Ebenezer\\anaconda3\\lib\\site-packages\\seaborn\\rcmod.py:136\u001b[0m, in \u001b[0;36mset\u001b[1;34m(*args, **kwargs)\u001b[0m\n\u001b[0;32m    130\u001b[0m \u001b[39mdef\u001b[39;00m \u001b[39mset\u001b[39m(\u001b[39m*\u001b[39margs, \u001b[39m*\u001b[39m\u001b[39m*\u001b[39mkwargs):\n\u001b[0;32m    131\u001b[0m     \u001b[39m\"\"\"\u001b[39;00m\n\u001b[0;32m    132\u001b[0m \u001b[39m    Alias for :func:`set_theme`, which is the preferred interface.\u001b[39;00m\n\u001b[0;32m    133\u001b[0m \n\u001b[0;32m    134\u001b[0m \u001b[39m    This function may be removed in the future.\u001b[39;00m\n\u001b[0;32m    135\u001b[0m \u001b[39m    \"\"\"\u001b[39;00m\n\u001b[1;32m--> 136\u001b[0m     set_theme(\u001b[39m*\u001b[39margs, \u001b[39m*\u001b[39m\u001b[39m*\u001b[39mkwargs)\n",
      "\u001b[1;31mTypeError\u001b[0m: set_theme() got an unexpected keyword argument 'width'"
     ]
    },
    {
     "data": {
      "image/png": "[encoded data removed]",
      "text/plain": [
       "<Figure size 432x288 with 1 Axes>"
      ]
     },
     "metadata": {
      "needs_background": "light"
     },
     "output_type": "display_data"
    }
   ],
   "source": [
    "df_feat_import = pd.Series(data=rf.feature_importances_, index=dv.feature_names_)\n",
    "sns.barplot(y=df_feat_import.index, x=df_feat_import)\n",
    "sns.set(width=12);\n"
   ]
  },
  {
   "cell_type": "code",
   "execution_count": 46,
   "metadata": {},
   "outputs": [
    {
     "name": "stdout",
     "output_type": "stream",
     "text": [
      "Collecting xgboost\n",
      "  Downloading xgboost-2.0.0-py3-none-win_amd64.whl (99.7 MB)\n",
      "Requirement already satisfied: scipy in c:\\users\\ebenezer\\anaconda3\\lib\\site-packages (from xgboost) (1.7.3)\n",
      "Requirement already satisfied: numpy in c:\\users\\ebenezer\\anaconda3\\lib\\site-packages (from xgboost) (1.21.5)\n",
      "Installing collected packages: xgboost\n",
      "Successfully installed xgboost-2.0.0\n"
     ]
    },
    {
     "name": "stderr",
     "output_type": "stream",
     "text": [
      "WARNING: Ignoring invalid distribution -etuptools (c:\\users\\ebenezer\\anaconda3\\lib\\site-packages)\n",
      "WARNING: Ignoring invalid distribution -etuptools (c:\\users\\ebenezer\\anaconda3\\lib\\site-packages)\n",
      "WARNING: Ignoring invalid distribution -etuptools (c:\\users\\ebenezer\\anaconda3\\lib\\site-packages)\n",
      "WARNING: Ignoring invalid distribution -etuptools (c:\\users\\ebenezer\\anaconda3\\lib\\site-packages)\n",
      "WARNING: Ignoring invalid distribution -etuptools (c:\\users\\ebenezer\\anaconda3\\lib\\site-packages)\n",
      "WARNING: Ignoring invalid distribution -etuptools (c:\\users\\ebenezer\\anaconda3\\lib\\site-packages)\n",
      "WARNING: Ignoring invalid distribution -etuptools (c:\\users\\ebenezer\\anaconda3\\lib\\site-packages)\n"
     ]
    },
    {
     "name": "stdout",
     "output_type": "stream",
     "text": [
      "^C\n"
     ]
    }
   ],
   "source": [
    "!pip install xgboost"
   ]
  },
  {
   "cell_type": "code",
   "execution_count": 47,
   "metadata": {},
   "outputs": [],
   "source": [
    "import xgboost as xgb"
   ]
  },
  {
   "cell_type": "code",
   "execution_count": 103,
   "metadata": {},
   "outputs": [
    {
     "name": "stderr",
     "output_type": "stream",
     "text": [
      "c:\\Users\\Ebenezer\\anaconda3\\lib\\site-packages\\sklearn\\utils\\deprecation.py:87: FutureWarning: Function get_feature_names is deprecated; get_feature_names is deprecated in 1.0 and will be removed in 1.2. Please use get_feature_names_out instead.\n",
      "  warnings.warn(msg, category=FutureWarning)\n"
     ]
    }
   ],
   "source": [
    "df_train.ocean_proximity = df_train.ocean_proximity.str.replace(\"<\", \"\").str.replace(\" \", \"_\").str.lower()\n",
    "dv = DictVectorizer()\n",
    "X_train = dv.fit_transform(df_train.to_dict(orient=\"records\"))\n",
    "\n",
    "features = dv.get_feature_names()\n",
    "dtrain = xgb.DMatrix(X_train, label=y_train, feature_names=features)\n",
    "dval = xgb.DMatrix(X_val, label=y_val, feature_names=features)\n",
    "\n",
    "watchlist = [(dtrain, 'train'), (dval, 'val')]\n"
   ]
  },
  {
   "cell_type": "code",
   "execution_count": 107,
   "metadata": {},
   "outputs": [
    {
     "name": "stdout",
     "output_type": "stream",
     "text": [
      "[0]\ttrain-rmse:0.44350\tval-rmse:0.44250\n",
      "[1]\ttrain-rmse:0.36599\tval-rmse:0.36916\n",
      "[2]\ttrain-rmse:0.31556\tval-rmse:0.32382\n",
      "[3]\ttrain-rmse:0.28541\tval-rmse:0.29965\n",
      "[4]\ttrain-rmse:0.26573\tval-rmse:0.28417\n",
      "[5]\ttrain-rmse:0.25338\tval-rmse:0.27463\n",
      "[6]\ttrain-rmse:0.24157\tval-rmse:0.26770\n",
      "[7]\ttrain-rmse:0.23486\tval-rmse:0.26423\n",
      "[8]\ttrain-rmse:0.22668\tval-rmse:0.25820\n",
      "[9]\ttrain-rmse:0.21995\tval-rmse:0.25444\n",
      "[10]\ttrain-rmse:0.21444\tval-rmse:0.25179\n",
      "[11]\ttrain-rmse:0.21155\tval-rmse:0.25054\n",
      "[12]\ttrain-rmse:0.20729\tval-rmse:0.24791\n",
      "[13]\ttrain-rmse:0.20317\tval-rmse:0.24628\n",
      "[14]\ttrain-rmse:0.20135\tval-rmse:0.24630\n",
      "[15]\ttrain-rmse:0.19858\tval-rmse:0.24522\n",
      "[16]\ttrain-rmse:0.19580\tval-rmse:0.24445\n",
      "[17]\ttrain-rmse:0.19333\tval-rmse:0.24395\n",
      "[18]\ttrain-rmse:0.19107\tval-rmse:0.24284\n",
      "[19]\ttrain-rmse:0.18735\tval-rmse:0.24127\n",
      "[20]\ttrain-rmse:0.18524\tval-rmse:0.23978\n",
      "[21]\ttrain-rmse:0.18332\tval-rmse:0.23963\n",
      "[22]\ttrain-rmse:0.18189\tval-rmse:0.23892\n",
      "[23]\ttrain-rmse:0.18006\tval-rmse:0.23847\n",
      "[24]\ttrain-rmse:0.17869\tval-rmse:0.23847\n",
      "[25]\ttrain-rmse:0.17757\tval-rmse:0.23830\n",
      "[26]\ttrain-rmse:0.17520\tval-rmse:0.23862\n",
      "[27]\ttrain-rmse:0.17430\tval-rmse:0.23807\n",
      "[28]\ttrain-rmse:0.17281\tval-rmse:0.23793\n",
      "[29]\ttrain-rmse:0.17091\tval-rmse:0.23683\n",
      "[30]\ttrain-rmse:0.16888\tval-rmse:0.23570\n",
      "[31]\ttrain-rmse:0.16727\tval-rmse:0.23505\n",
      "[32]\ttrain-rmse:0.16553\tval-rmse:0.23494\n",
      "[33]\ttrain-rmse:0.16453\tval-rmse:0.23476\n",
      "[34]\ttrain-rmse:0.16292\tval-rmse:0.23490\n",
      "[35]\ttrain-rmse:0.16113\tval-rmse:0.23416\n",
      "[36]\ttrain-rmse:0.15969\tval-rmse:0.23402\n",
      "[37]\ttrain-rmse:0.15859\tval-rmse:0.23362\n",
      "[38]\ttrain-rmse:0.15726\tval-rmse:0.23393\n",
      "[39]\ttrain-rmse:0.15663\tval-rmse:0.23383\n",
      "[40]\ttrain-rmse:0.15542\tval-rmse:0.23318\n",
      "[41]\ttrain-rmse:0.15426\tval-rmse:0.23300\n",
      "[42]\ttrain-rmse:0.15289\tval-rmse:0.23266\n",
      "[43]\ttrain-rmse:0.15189\tval-rmse:0.23252\n",
      "[44]\ttrain-rmse:0.15092\tval-rmse:0.23252\n",
      "[45]\ttrain-rmse:0.14941\tval-rmse:0.23190\n",
      "[46]\ttrain-rmse:0.14856\tval-rmse:0.23178\n",
      "[47]\ttrain-rmse:0.14742\tval-rmse:0.23183\n",
      "[48]\ttrain-rmse:0.14683\tval-rmse:0.23198\n",
      "[49]\ttrain-rmse:0.14629\tval-rmse:0.23206\n",
      "[50]\ttrain-rmse:0.14536\tval-rmse:0.23225\n",
      "[51]\ttrain-rmse:0.14450\tval-rmse:0.23225\n",
      "[52]\ttrain-rmse:0.14353\tval-rmse:0.23223\n",
      "[53]\ttrain-rmse:0.14276\tval-rmse:0.23199\n",
      "[54]\ttrain-rmse:0.14180\tval-rmse:0.23194\n",
      "[55]\ttrain-rmse:0.14150\tval-rmse:0.23197\n",
      "[56]\ttrain-rmse:0.14085\tval-rmse:0.23189\n",
      "[57]\ttrain-rmse:0.14020\tval-rmse:0.23177\n",
      "[58]\ttrain-rmse:0.13931\tval-rmse:0.23175\n",
      "[59]\ttrain-rmse:0.13816\tval-rmse:0.23148\n",
      "[60]\ttrain-rmse:0.13719\tval-rmse:0.23139\n",
      "[61]\ttrain-rmse:0.13640\tval-rmse:0.23179\n",
      "[62]\ttrain-rmse:0.13566\tval-rmse:0.23160\n",
      "[63]\ttrain-rmse:0.13439\tval-rmse:0.23151\n",
      "[64]\ttrain-rmse:0.13358\tval-rmse:0.23153\n",
      "[65]\ttrain-rmse:0.13259\tval-rmse:0.23158\n",
      "[66]\ttrain-rmse:0.13197\tval-rmse:0.23144\n",
      "[67]\ttrain-rmse:0.13175\tval-rmse:0.23148\n",
      "[68]\ttrain-rmse:0.13117\tval-rmse:0.23148\n",
      "[69]\ttrain-rmse:0.13046\tval-rmse:0.23137\n",
      "[70]\ttrain-rmse:0.12943\tval-rmse:0.23068\n",
      "[71]\ttrain-rmse:0.12894\tval-rmse:0.23064\n",
      "[72]\ttrain-rmse:0.12854\tval-rmse:0.23082\n",
      "[73]\ttrain-rmse:0.12741\tval-rmse:0.23059\n",
      "[74]\ttrain-rmse:0.12635\tval-rmse:0.23048\n",
      "[75]\ttrain-rmse:0.12555\tval-rmse:0.23039\n",
      "[76]\ttrain-rmse:0.12395\tval-rmse:0.22935\n",
      "[77]\ttrain-rmse:0.12342\tval-rmse:0.22941\n",
      "[78]\ttrain-rmse:0.12255\tval-rmse:0.22913\n",
      "[79]\ttrain-rmse:0.12220\tval-rmse:0.22889\n",
      "[80]\ttrain-rmse:0.12192\tval-rmse:0.22886\n",
      "[81]\ttrain-rmse:0.12126\tval-rmse:0.22903\n",
      "[82]\ttrain-rmse:0.12056\tval-rmse:0.22891\n",
      "[83]\ttrain-rmse:0.11995\tval-rmse:0.22885\n",
      "[84]\ttrain-rmse:0.11922\tval-rmse:0.22893\n",
      "[85]\ttrain-rmse:0.11854\tval-rmse:0.22888\n",
      "[86]\ttrain-rmse:0.11781\tval-rmse:0.22899\n",
      "[87]\ttrain-rmse:0.11692\tval-rmse:0.22908\n",
      "[88]\ttrain-rmse:0.11613\tval-rmse:0.22905\n",
      "[89]\ttrain-rmse:0.11557\tval-rmse:0.22886\n",
      "[90]\ttrain-rmse:0.11496\tval-rmse:0.22861\n",
      "[91]\ttrain-rmse:0.11461\tval-rmse:0.22874\n",
      "[92]\ttrain-rmse:0.11386\tval-rmse:0.22887\n",
      "[93]\ttrain-rmse:0.11342\tval-rmse:0.22895\n",
      "[94]\ttrain-rmse:0.11281\tval-rmse:0.22904\n",
      "[95]\ttrain-rmse:0.11211\tval-rmse:0.22908\n",
      "[96]\ttrain-rmse:0.11139\tval-rmse:0.22875\n",
      "[97]\ttrain-rmse:0.11089\tval-rmse:0.22864\n",
      "[98]\ttrain-rmse:0.11041\tval-rmse:0.22868\n",
      "[99]\ttrain-rmse:0.10989\tval-rmse:0.22862\n"
     ]
    }
   ],
   "source": [
    "xgb_params = {\n",
    "    'eta': 0.3, \n",
    "    'max_depth': 6,\n",
    "    'min_child_weight': 1,\n",
    "    \n",
    "    'objective': 'reg:squarederror',\n",
    "    'nthread': 8,\n",
    "    \n",
    "    'seed': 1,\n",
    "    'verbosity': 1,\n",
    "}\n",
    "\n",
    "model = xgb.train(xgb_params, dtrain, num_boost_round=100, evals=watchlist)"
   ]
  },
  {
   "cell_type": "code",
   "execution_count": 108,
   "metadata": {},
   "outputs": [],
   "source": [
    "y_pred = model.predict(dval)"
   ]
  },
  {
   "cell_type": "code",
   "execution_count": 109,
   "metadata": {},
   "outputs": [
    {
     "data": {
      "text/plain": [
       "0.2286231999801062"
      ]
     },
     "execution_count": 109,
     "metadata": {},
     "output_type": "execute_result"
    }
   ],
   "source": [
    "rmse(y_val, y_pred)"
   ]
  },
  {
   "cell_type": "code",
   "execution_count": 110,
   "metadata": {},
   "outputs": [
    {
     "name": "stdout",
     "output_type": "stream",
     "text": [
      "[0]\ttrain-rmse:0.52449\tval-rmse:0.52045\n",
      "[1]\ttrain-rmse:0.48736\tval-rmse:0.48443\n",
      "[2]\ttrain-rmse:0.45433\tval-rmse:0.45293\n",
      "[3]\ttrain-rmse:0.42533\tval-rmse:0.42550\n",
      "[4]\ttrain-rmse:0.39987\tval-rmse:0.40144\n",
      "[5]\ttrain-rmse:0.37822\tval-rmse:0.38151\n",
      "[6]\ttrain-rmse:0.35887\tval-rmse:0.36393\n",
      "[7]\ttrain-rmse:0.34177\tval-rmse:0.34838\n",
      "[8]\ttrain-rmse:0.32701\tval-rmse:0.33492\n",
      "[9]\ttrain-rmse:0.31411\tval-rmse:0.32333\n",
      "[10]\ttrain-rmse:0.30326\tval-rmse:0.31427\n",
      "[11]\ttrain-rmse:0.29355\tval-rmse:0.30615\n",
      "[12]\ttrain-rmse:0.28519\tval-rmse:0.29922\n",
      "[13]\ttrain-rmse:0.27760\tval-rmse:0.29269\n",
      "[14]\ttrain-rmse:0.27116\tval-rmse:0.28796\n",
      "[15]\ttrain-rmse:0.26538\tval-rmse:0.28380\n",
      "[16]\ttrain-rmse:0.26012\tval-rmse:0.27970\n",
      "[17]\ttrain-rmse:0.25583\tval-rmse:0.27661\n",
      "[18]\ttrain-rmse:0.25203\tval-rmse:0.27388\n",
      "[19]\ttrain-rmse:0.24818\tval-rmse:0.27123\n",
      "[20]\ttrain-rmse:0.24512\tval-rmse:0.26882\n",
      "[21]\ttrain-rmse:0.24149\tval-rmse:0.26669\n",
      "[22]\ttrain-rmse:0.23895\tval-rmse:0.26478\n",
      "[23]\ttrain-rmse:0.23594\tval-rmse:0.26331\n",
      "[24]\ttrain-rmse:0.23305\tval-rmse:0.26141\n",
      "[25]\ttrain-rmse:0.23026\tval-rmse:0.25997\n",
      "[26]\ttrain-rmse:0.22720\tval-rmse:0.25799\n",
      "[27]\ttrain-rmse:0.22487\tval-rmse:0.25620\n",
      "[28]\ttrain-rmse:0.22268\tval-rmse:0.25494\n",
      "[29]\ttrain-rmse:0.22084\tval-rmse:0.25374\n",
      "[30]\ttrain-rmse:0.21887\tval-rmse:0.25266\n",
      "[31]\ttrain-rmse:0.21709\tval-rmse:0.25172\n",
      "[32]\ttrain-rmse:0.21505\tval-rmse:0.25075\n",
      "[33]\ttrain-rmse:0.21342\tval-rmse:0.24991\n",
      "[34]\ttrain-rmse:0.21168\tval-rmse:0.24882\n",
      "[35]\ttrain-rmse:0.21020\tval-rmse:0.24826\n",
      "[36]\ttrain-rmse:0.20878\tval-rmse:0.24779\n",
      "[37]\ttrain-rmse:0.20755\tval-rmse:0.24731\n",
      "[38]\ttrain-rmse:0.20625\tval-rmse:0.24668\n",
      "[39]\ttrain-rmse:0.20518\tval-rmse:0.24624\n",
      "[40]\ttrain-rmse:0.20392\tval-rmse:0.24539\n",
      "[41]\ttrain-rmse:0.20285\tval-rmse:0.24501\n",
      "[42]\ttrain-rmse:0.20172\tval-rmse:0.24435\n",
      "[43]\ttrain-rmse:0.20045\tval-rmse:0.24380\n",
      "[44]\ttrain-rmse:0.19900\tval-rmse:0.24311\n",
      "[45]\ttrain-rmse:0.19814\tval-rmse:0.24293\n",
      "[46]\ttrain-rmse:0.19628\tval-rmse:0.24184\n",
      "[47]\ttrain-rmse:0.19561\tval-rmse:0.24159\n",
      "[48]\ttrain-rmse:0.19464\tval-rmse:0.24131\n",
      "[49]\ttrain-rmse:0.19371\tval-rmse:0.24109\n",
      "[50]\ttrain-rmse:0.19215\tval-rmse:0.24020\n",
      "[51]\ttrain-rmse:0.19156\tval-rmse:0.24015\n",
      "[52]\ttrain-rmse:0.19059\tval-rmse:0.23979\n",
      "[53]\ttrain-rmse:0.18985\tval-rmse:0.23958\n",
      "[54]\ttrain-rmse:0.18931\tval-rmse:0.23930\n",
      "[55]\ttrain-rmse:0.18809\tval-rmse:0.23878\n",
      "[56]\ttrain-rmse:0.18734\tval-rmse:0.23853\n",
      "[57]\ttrain-rmse:0.18681\tval-rmse:0.23849\n",
      "[58]\ttrain-rmse:0.18623\tval-rmse:0.23836\n",
      "[59]\ttrain-rmse:0.18561\tval-rmse:0.23835\n",
      "[60]\ttrain-rmse:0.18457\tval-rmse:0.23791\n",
      "[61]\ttrain-rmse:0.18363\tval-rmse:0.23783\n",
      "[62]\ttrain-rmse:0.18310\tval-rmse:0.23788\n",
      "[63]\ttrain-rmse:0.18209\tval-rmse:0.23755\n",
      "[64]\ttrain-rmse:0.18150\tval-rmse:0.23735\n",
      "[65]\ttrain-rmse:0.18063\tval-rmse:0.23698\n",
      "[66]\ttrain-rmse:0.17998\tval-rmse:0.23681\n",
      "[67]\ttrain-rmse:0.17913\tval-rmse:0.23646\n",
      "[68]\ttrain-rmse:0.17843\tval-rmse:0.23628\n",
      "[69]\ttrain-rmse:0.17798\tval-rmse:0.23627\n",
      "[70]\ttrain-rmse:0.17741\tval-rmse:0.23622\n",
      "[71]\ttrain-rmse:0.17685\tval-rmse:0.23607\n",
      "[72]\ttrain-rmse:0.17617\tval-rmse:0.23584\n",
      "[73]\ttrain-rmse:0.17557\tval-rmse:0.23562\n",
      "[74]\ttrain-rmse:0.17522\tval-rmse:0.23537\n",
      "[75]\ttrain-rmse:0.17468\tval-rmse:0.23510\n",
      "[76]\ttrain-rmse:0.17432\tval-rmse:0.23503\n",
      "[77]\ttrain-rmse:0.17395\tval-rmse:0.23494\n",
      "[78]\ttrain-rmse:0.17334\tval-rmse:0.23482\n",
      "[79]\ttrain-rmse:0.17287\tval-rmse:0.23467\n",
      "[80]\ttrain-rmse:0.17242\tval-rmse:0.23453\n",
      "[81]\ttrain-rmse:0.17213\tval-rmse:0.23447\n",
      "[82]\ttrain-rmse:0.17139\tval-rmse:0.23431\n",
      "[83]\ttrain-rmse:0.17105\tval-rmse:0.23428\n",
      "[84]\ttrain-rmse:0.17063\tval-rmse:0.23413\n",
      "[85]\ttrain-rmse:0.17014\tval-rmse:0.23404\n",
      "[86]\ttrain-rmse:0.16966\tval-rmse:0.23401\n",
      "[87]\ttrain-rmse:0.16916\tval-rmse:0.23388\n",
      "[88]\ttrain-rmse:0.16882\tval-rmse:0.23364\n",
      "[89]\ttrain-rmse:0.16835\tval-rmse:0.23339\n",
      "[90]\ttrain-rmse:0.16797\tval-rmse:0.23332\n",
      "[91]\ttrain-rmse:0.16756\tval-rmse:0.23330\n",
      "[92]\ttrain-rmse:0.16707\tval-rmse:0.23298\n",
      "[93]\ttrain-rmse:0.16623\tval-rmse:0.23273\n",
      "[94]\ttrain-rmse:0.16586\tval-rmse:0.23279\n",
      "[95]\ttrain-rmse:0.16562\tval-rmse:0.23276\n",
      "[96]\ttrain-rmse:0.16524\tval-rmse:0.23266\n",
      "[97]\ttrain-rmse:0.16444\tval-rmse:0.23246\n",
      "[98]\ttrain-rmse:0.16383\tval-rmse:0.23222\n",
      "[99]\ttrain-rmse:0.16323\tval-rmse:0.23209\n"
     ]
    }
   ],
   "source": [
    "xgb_params = {\n",
    "    'eta': 0.1, \n",
    "    'max_depth': 6,\n",
    "    'min_child_weight': 1,\n",
    "    \n",
    "    'objective': 'reg:squarederror',\n",
    "    'nthread': 8,\n",
    "    \n",
    "    'seed': 1,\n",
    "    'verbosity': 1,\n",
    "}\n",
    "\n",
    "model = xgb.train(xgb_params, dtrain, num_boost_round=100, evals=watchlist)"
   ]
  },
  {
   "cell_type": "code",
   "execution_count": 111,
   "metadata": {},
   "outputs": [],
   "source": [
    "y_pred = model.predict(dval)"
   ]
  },
  {
   "cell_type": "code",
   "execution_count": 112,
   "metadata": {},
   "outputs": [
    {
     "data": {
      "text/plain": [
       "0.23208927121609324"
      ]
     },
     "execution_count": 112,
     "metadata": {},
     "output_type": "execute_result"
    }
   ],
   "source": [
    "rmse(y_val, y_pred)"
   ]
  },
  {
   "cell_type": "code",
   "execution_count": null,
   "metadata": {},
   "outputs": [],
   "source": []
  }
 ],
 "metadata": {
  "kernelspec": {
   "display_name": "base",
   "language": "python",
   "name": "python3"
  },
  "language_info": {
   "codemirror_mode": {
    "name": "ipython",
    "version": 3
   },
   "file_extension": ".py",
   "mimetype": "text/x-python",
   "name": "python",
   "nbconvert_exporter": "python",
   "pygments_lexer": "ipython3",
   "version": "3.9.12"
  }
 },
 "nbformat": 4,
 "nbformat_minor": 2
}
